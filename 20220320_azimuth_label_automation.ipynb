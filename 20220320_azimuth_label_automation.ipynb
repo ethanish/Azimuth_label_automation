{
 "cells": [
  {
   "cell_type": "code",
   "execution_count": 1,
   "id": "a4a35e35-49c9-4c48-a456-b7d9e949e8d9",
   "metadata": {},
   "outputs": [],
   "source": [
    "#ISH\n",
    "#Writtem by Inseung Hwang\n",
    "#COBI Lab, KNU\n",
    "#2022-03-20"
   ]
  },
  {
   "cell_type": "code",
   "execution_count": 2,
   "id": "4c2c665a-df53-4c9a-bc66-f51be8ff09fd",
   "metadata": {},
   "outputs": [],
   "source": [
    "Sys.umask(\"006\")"
   ]
  },
  {
   "cell_type": "code",
   "execution_count": null,
   "id": "e5f745d6-26d9-4177-ae73-086c19ea07cb",
   "metadata": {},
   "outputs": [],
   "source": [
    "# Please make sure there is no any file on out_dir"
   ]
  },
  {
   "cell_type": "code",
   "execution_count": null,
   "id": "c243a5a9-9d9e-4ad4-88b4-86daec119a07",
   "metadata": {},
   "outputs": [
    {
     "name": "stderr",
     "output_type": "stream",
     "text": [
      "Attaching SeuratObject\n",
      "\n",
      "Attaching sp\n",
      "\n",
      "Registered S3 method overwritten by 'SeuratDisk':\n",
      "  method            from  \n",
      "  as.sparse.H5Group Seurat\n",
      "\n",
      "\n",
      "Attaching package: 'dplyr'\n",
      "\n",
      "\n",
      "The following objects are masked from 'package:stats':\n",
      "\n",
      "    filter, lag\n",
      "\n",
      "\n",
      "The following objects are masked from 'package:base':\n",
      "\n",
      "    intersect, setdiff, setequal, union\n",
      "\n",
      "\n"
     ]
    }
   ],
   "source": [
    "library(Seurat)\n",
    "library(SeuratDisk)\n",
    "library(ggplot2)\n",
    "#library(patchwork)\n",
    "library(png)\n",
    "library(patchwork)\n",
    "library(dplyr)"
   ]
  },
  {
   "cell_type": "code",
   "execution_count": null,
   "id": "6181f851-9182-4e92-9c32-7a5afe1c0883",
   "metadata": {
    "tags": []
   },
   "outputs": [
    {
     "data": {
      "text/html": [
       "<table class=\"dataframe\">\n",
       "<caption>A data.frame: 3 x 3</caption>\n",
       "<thead>\n",
       "\t<tr><th></th><th scope=col>project</th><th scope=col>path</th><th scope=col>out_path</th></tr>\n",
       "\t<tr><th></th><th scope=col>&lt;chr&gt;</th><th scope=col>&lt;chr&gt;</th><th scope=col>&lt;chr&gt;</th></tr>\n",
       "</thead>\n",
       "<tbody>\n",
       "\t<tr><th scope=row>1</th><td>COV.CCO.0011</td><td>/data2/COVID19/adjusted_data_link/COVID_Matrix_Raw/COV.CCO.0011</td><td>/data2/COVID19/analysis/KNU/azimuth_label_NOQC/COV.CCO.0011</td></tr>\n",
       "\t<tr><th scope=row>2</th><td>COV.CCO.0012</td><td>/data2/COVID19/adjusted_data_link/COVID_Matrix_Raw/COV.CCO.0012</td><td>/data2/COVID19/analysis/KNU/azimuth_label_NOQC/COV.CCO.0012</td></tr>\n",
       "\t<tr><th scope=row>3</th><td>COV.CCO.0013</td><td>/data2/COVID19/adjusted_data_link/COVID_Matrix_Raw/COV.CCO.0013</td><td>/data2/COVID19/analysis/KNU/azimuth_label_NOQC/COV.CCO.0013</td></tr>\n",
       "</tbody>\n",
       "</table>\n"
      ],
      "text/latex": [
       "A data.frame: 3 x 3\n",
       "\\begin{tabular}{r|lll}\n",
       "  & project & path & out\\_path\\\\\n",
       "  & <chr> & <chr> & <chr>\\\\\n",
       "\\hline\n",
       "\t1 & COV.CCO.0011 & /data2/COVID19/adjusted\\_data\\_link/COVID\\_Matrix\\_Raw/COV.CCO.0011 & /data2/COVID19/analysis/KNU/azimuth\\_label\\_NOQC/COV.CCO.0011\\\\\n",
       "\t2 & COV.CCO.0012 & /data2/COVID19/adjusted\\_data\\_link/COVID\\_Matrix\\_Raw/COV.CCO.0012 & /data2/COVID19/analysis/KNU/azimuth\\_label\\_NOQC/COV.CCO.0012\\\\\n",
       "\t3 & COV.CCO.0013 & /data2/COVID19/adjusted\\_data\\_link/COVID\\_Matrix\\_Raw/COV.CCO.0013 & /data2/COVID19/analysis/KNU/azimuth\\_label\\_NOQC/COV.CCO.0013\\\\\n",
       "\\end{tabular}\n"
      ],
      "text/markdown": [
       "\n",
       "A data.frame: 3 x 3\n",
       "\n",
       "| <!--/--> | project &lt;chr&gt; | path &lt;chr&gt; | out_path &lt;chr&gt; |\n",
       "|---|---|---|---|\n",
       "| 1 | COV.CCO.0011 | /data2/COVID19/adjusted_data_link/COVID_Matrix_Raw/COV.CCO.0011 | /data2/COVID19/analysis/KNU/azimuth_label_NOQC/COV.CCO.0011 |\n",
       "| 2 | COV.CCO.0012 | /data2/COVID19/adjusted_data_link/COVID_Matrix_Raw/COV.CCO.0012 | /data2/COVID19/analysis/KNU/azimuth_label_NOQC/COV.CCO.0012 |\n",
       "| 3 | COV.CCO.0013 | /data2/COVID19/adjusted_data_link/COVID_Matrix_Raw/COV.CCO.0013 | /data2/COVID19/analysis/KNU/azimuth_label_NOQC/COV.CCO.0013 |\n",
       "\n"
      ],
      "text/plain": [
       "  project      path                                                           \n",
       "1 COV.CCO.0011 /data2/COVID19/adjusted_data_link/COVID_Matrix_Raw/COV.CCO.0011\n",
       "2 COV.CCO.0012 /data2/COVID19/adjusted_data_link/COVID_Matrix_Raw/COV.CCO.0012\n",
       "3 COV.CCO.0013 /data2/COVID19/adjusted_data_link/COVID_Matrix_Raw/COV.CCO.0013\n",
       "  out_path                                                   \n",
       "1 /data2/COVID19/analysis/KNU/azimuth_label_NOQC/COV.CCO.0011\n",
       "2 /data2/COVID19/analysis/KNU/azimuth_label_NOQC/COV.CCO.0012\n",
       "3 /data2/COVID19/analysis/KNU/azimuth_label_NOQC/COV.CCO.0013"
      ]
     },
     "metadata": {},
     "output_type": "display_data"
    }
   ],
   "source": [
    "#Automation option\n",
    "dir <- '/data2/COVID19/adjusted_data_link/COVID_Matrix_Raw/'\n",
    "out_dir <- '/data2/COVID19/analysis/KNU/azimuth_label_adjusted/'\n",
    "\n",
    "project <- list.files(dir)\n",
    "path <- paste0(dir, project,sep='')\n",
    "out_path <- paste0(out_dir,project,sep='')\n",
    "\n",
    "file_df <- data.frame(project, path,out_path)\n",
    "head(file_df, n = 3)"
   ]
  },
  {
   "cell_type": "code",
   "execution_count": null,
   "id": "2af7e8a4-f5c5-4276-b051-cfb28a8a67b9",
   "metadata": {
    "tags": []
   },
   "outputs": [],
   "source": []
  },
  {
   "cell_type": "code",
   "execution_count": null,
   "id": "f29a0c02-6b29-4012-b12e-47f83a0ead51",
   "metadata": {},
   "outputs": [
    {
     "name": "stderr",
     "output_type": "stream",
     "text": [
      "Validating h5Seurat file\n",
      "\n",
      "Initializing ADT with data\n",
      "\n",
      "Adding counts for ADT\n",
      "\n",
      "Adding variable feature information for ADT\n",
      "\n",
      "Adding miscellaneous information for ADT\n",
      "\n",
      "Initializing SCT with data\n",
      "\n",
      "Adding counts for SCT\n",
      "\n",
      "Adding variable feature information for SCT\n",
      "\n",
      "Adding miscellaneous information for SCT\n",
      "\n",
      "Adding reduction apca\n",
      "\n",
      "Adding cell embeddings for apca\n",
      "\n",
      "Adding feature loadings for apca\n",
      "\n",
      "Adding miscellaneous information for apca\n",
      "\n",
      "Adding reduction aumap\n",
      "\n",
      "Adding cell embeddings for aumap\n",
      "\n",
      "Adding miscellaneous information for aumap\n",
      "\n",
      "Adding reduction pca\n",
      "\n",
      "Adding cell embeddings for pca\n",
      "\n",
      "Adding feature loadings for pca\n",
      "\n",
      "Adding miscellaneous information for pca\n",
      "\n",
      "Adding reduction spca\n",
      "\n",
      "Adding cell embeddings for spca\n",
      "\n",
      "Adding feature loadings for spca\n",
      "\n",
      "Adding miscellaneous information for spca\n",
      "\n",
      "Adding reduction umap\n",
      "\n",
      "Adding cell embeddings for umap\n",
      "\n",
      "Adding miscellaneous information for umap\n",
      "\n",
      "Adding reduction wnn.umap\n",
      "\n",
      "Adding cell embeddings for wnn.umap\n",
      "\n",
      "Adding miscellaneous information for wnn.umap\n",
      "\n",
      "Adding graph wknn\n",
      "\n",
      "Adding graph wsnn\n",
      "\n",
      "Adding command information\n",
      "\n",
      "Adding cell-level metadata\n",
      "\n",
      "Adding miscellaneous information\n",
      "\n",
      "Adding tool-specific results\n",
      "\n"
     ]
    }
   ],
   "source": [
    "#Input file of seurat object\n",
    "seurat_input = \"/data1/home/histidine/project/notebook/Data/pbmc_multimodal.h5seurat\"\n",
    "\n",
    "reference <- LoadH5Seurat(seurat_input)"
   ]
  },
  {
   "cell_type": "markdown",
   "id": "e8e9cc52-3884-48e8-9920-3a41a671c6c6",
   "metadata": {},
   "source": [
    "\n",
    "# Make function easy control of memory"
   ]
  },
  {
   "cell_type": "code",
   "execution_count": null,
   "id": "fbd6da5e-0a31-445f-a4cf-47acd6e28825",
   "metadata": {},
   "outputs": [],
   "source": [
    "azimuth_labeling <- function(pjt, pth, opth, reference, nCount_RNA_limit, nFeature_RNA_limit, percent_mt_limit, min_cells_limit, min_features_limit) {\n",
    "    \n",
    "    ################\n",
    "    #Parameter setting\n",
    "    #nCount_RNA_limit = 20000\n",
    "    #nFeature_RNA_limit = 4000\n",
    "    #percent_mt_limit = 10\n",
    "    #min_cells_limit = 2\n",
    "    #min_features_limit = 300\n",
    "    ################\n",
    "    #Read raw_counts\n",
    "    mtx <-paste(pth,\"/\",\"matrix.mtx.gz\",sep=\"\")\n",
    "    features <-paste(pth,\"/\",\"features.tsv.gz\",sep=\"\")\n",
    "    cells<-paste(pth,\"/\",\"barcodes.tsv.gz\",sep=\"\")\n",
    "\n",
    "    pbmc.data <- ReadMtx(\n",
    "        mtx,\n",
    "        cells,\n",
    "        features,\n",
    "        cell.column = 1, #column of cells file\n",
    "        feature.column = 2, #2 means gene symbol 1 means ENSEMBL gene name\n",
    "        unique.features = TRUE\n",
    "    )\n",
    "    pbmc <- CreateSeuratObject(counts = pbmc.data, project = pjt, min.cells = min_cells_limit, min.features = min_features_limit)\n",
    "    #Number of featrues\n",
    "    before_features <- dim(x = pbmc)[1]\n",
    "    #Number of cells\n",
    "    before_cells <- dim(x = pbmc)[2]\n",
    "\n",
    "    ################\n",
    "    #Quality Control\n",
    "    # pbmc[[\"percent.mt\"]] <- PercentageFeatureSet(pbmc, pattern = \"^MT-\")\n",
    "    # pbmc\n",
    "    \n",
    "    # QC_ViolinPlot.png\n",
    "    #plot_pth = paste(opth,\"/QC_ViolinPlot.png\",sep=\"\")\n",
    "    #p = VlnPlot(pbmc, features = c(\"nFeature_RNA\", \"nCount_RNA\", \"percent.mt\") , ncol = 3)\n",
    "    # png(file = plot_pth)\n",
    "    # print(p)\n",
    "    # dev.off()\n",
    "    \n",
    "    # MT_cutoff.png\n",
    "    # plot_pth = paste(opth,\"/MT_cutoff.png\",sep=\"\")\n",
    "    # p <- FeatureScatter(pbmc, feature1 = \"nCount_RNA\", feature2 = \"percent.mt\")# + geom_hline(yintercept=10)\n",
    "    # png(file = plot_pth)\n",
    "    # print(p)\n",
    "    # dev.off()\n",
    "\n",
    "    \n",
    "    #QC_Gene_cutoff.png\n",
    "    # plot_pth = paste(opth,\"/QC_Gene_cutoff.png\",sep=\"\")\n",
    "    # p <- FeatureScatter(pbmc, feature1 = \"nFeature_RNA\", feature2 = \"nCount_RNA\")# + geom_hline(yintercept=20000) + geom_vline(xintercept = 4000)\n",
    "    # png(file = plot_pth)\n",
    "    # print(p)\n",
    "    # dev.off()\n",
    "    \n",
    "    ################\n",
    "    #QC filtering\n",
    "    #pbmc <- subset(pbmc, subset = nCount_RNA < nCount_RNA_limit & nFeature_RNA < nFeature_RNA_limit & percent.mt < percent_mt_limit)\n",
    "    \n",
    "    #Number of featrues\n",
    "    #after_features <- dim(x = pbmc)[1]\n",
    "    #Number of genes\n",
    "    #after_cells <- dim(x = pbmc)[2]\n",
    "    \n",
    "    ################\n",
    "    #Normalization\n",
    "    pbmc_norm <- SCTransform(pbmc, verbose = FALSE)\n",
    "    \n",
    "    ################\n",
    "    #Labeling \n",
    "    anchors <- FindTransferAnchors(\n",
    "        reference = reference,\n",
    "        query = pbmc_norm,\n",
    "        normalization.method = \"SCT\",\n",
    "        reference.reduction = \"spca\",\n",
    "        dims = 1:50\n",
    "    )\n",
    "\n",
    "    pbmc_norm <- MapQuery(\n",
    "        anchorset = anchors,\n",
    "        query = pbmc_norm,\n",
    "        reference = reference,\n",
    "        refdata = list(\n",
    "            celltype.l1 = \"celltype.l1\",\n",
    "            celltype.l2 = \"celltype.l2\",\n",
    "            predicted_ADT = \"ADT\"\n",
    "        ),\n",
    "        reference.reduction = \"spca\", \n",
    "        reduction.model = \"wnn.umap\"\n",
    "    )\n",
    "    \n",
    "    pbmc_df <- as.data.frame(pbmc_norm[[]])\n",
    "    \n",
    "    \n",
    "    ################\n",
    "    #Save label\n",
    "    celltype_file_name_l1 <- paste(opth,\"/\",pjt,\"_cell_type_annot_l1.tsv\", sep=\"\")\n",
    "    write.table(pbmc_df['predicted.celltype.l1'], file=celltype_file_name_l1, quote=F, sep=\"\\t\", col.names = F)\n",
    "    \n",
    "    celltype_file_name_l2 <- paste(opth,\"/\",pjt,\"_cell_type_annot_l2.tsv\", sep=\"\")\n",
    "    write.table(pbmc_df['predicted.celltype.l2'], file=celltype_file_name_l2, quote=F, sep=\"\\t\", col.names = F)\n",
    "    \n",
    "    ################\n",
    "    #Save figure\n",
    "    # plot_pth <- paste(opth,\"/\",pjt,\"_cell_type_annot_l1.pdf\", sep=\"\")\n",
    "    # p = DimPlot(pbmc_norm, reduction = \"ref.umap\", group.by = \"predicted.celltype.l1\", label = TRUE, label.size = 3, repel = TRUE) + NoLegend()\n",
    "    # pdf(plot_pth) \n",
    "    # print(p)\n",
    "    # dev.off()\n",
    "\n",
    "    # plot_pth <- paste(opth,\"/\",pjt,\"_cell_type_annot_l2.pdf\", sep=\"\")\n",
    "    # p = DimPlot(pbmc_norm, reduction = \"ref.umap\", group.by = \"predicted.celltype.l2\", label = TRUE, label.size = 3 ,repel = TRUE) + NoLegend()\n",
    "    # pdf(plot_pth) \n",
    "    # print(p)\n",
    "    # dev.off() \n",
    "    \n",
    "    \n",
    "    ################\n",
    "    #Save data condition\n",
    "    # writeLines(\n",
    "    #     c(paste(\"Project:\",pjt,sep=\":\\t\"),\n",
    "    #       paste(\"Input directory:\",pth,sep=\":\\t\"),\n",
    "    #       \"\",\n",
    "    #       paste(\"Without genes with fewer than number of cells:\",min_cells_limit,sep=\":\\t\"),\n",
    "    #       paste(\"Without cells with fewer than number of genes :\",min_features_limit,sep=\":\\t\"),\n",
    "    #       \"\",\n",
    "    #       paste(\"Before filtering(Number of features):\",before_features,sep=\":\\t\"),\n",
    "    #       paste(\"Before filtering(Number of genes):\",before_cells,sep=\":\\t\"),\n",
    "    #       \"\",\n",
    "    #       paste(\"Maximum UMI count:\",nCount_RNA_limit,sep=\":\\t\"),\n",
    "    #       paste(\"Maximum Feature number:\",nFeature_RNA_limit,sep=\":\\t\"),\n",
    "    #       paste(\"Maximum percent of mitochondria:\",percent_mt_limit,sep=\":\\t\"),\n",
    "    #       \"\",\n",
    "    #       paste(\"After filtering(Number of features):\",after_features,sep=\":\\t\"),\n",
    "    #       paste(\"After filtering(Number of genes):\",after_cells,sep=\":\\t\"),\n",
    "    #       \"\")\n",
    "    #     , paste(opth,\"/\",\"README.txt\",sep=\"\"))\n",
    "\n",
    "    #return(full_path)\n",
    "}\n"
   ]
  },
  {
   "cell_type": "code",
   "execution_count": null,
   "id": "ea5cd9f2-d15a-408d-b14b-a347940138b0",
   "metadata": {},
   "outputs": [],
   "source": [
    "# #Test no loop\n",
    "\n",
    "# pjt <- \"COV.CCO.0011\"\n",
    "# pth <- \"/data2/COVID19/adjusted_data_link/COVID_Matrix_Raw/COV.CCO.0011\"\n",
    "# pth <- \"/data2/COVID19/analysis/KNU/azimuth_label_adjusted/COV.CCO.0011\"\n",
    "\n",
    "\n",
    "# #Read raw_counts\n",
    "# mtx <-paste(pth,\"/\",\"matrix.mtx.gz\",sep=\"\")\n",
    "# features <-paste(pth,\"/\",\"features.tsv.gz\",sep=\"\")\n",
    "# cells<-paste(pth,\"/\",\"barcodes.tsv.gz\",sep=\"\")\n",
    "\n",
    "# pbmc.data <- ReadMtx(\n",
    "#     mtx,\n",
    "#     cells,\n",
    "#     features,\n",
    "#     cell.column = 1, #column of cells file\n",
    "#     feature.column = 2, #2 means gene symbol 1 means ENSEMBL gene name\n",
    "#     unique.features = TRUE\n",
    "# )\n",
    "# pbmc <- CreateSeuratObject(counts = pbmc.data, project = pjt, min.cells = min_cells_limit, min.features = min_features_limit)\n",
    "# #Number of featrues\n",
    "# before_features <- dim(x = pbmc)[1]\n",
    "# #Number of cells\n",
    "# before_cells <- dim(x = pbmc)[2]\n",
    "\n",
    "# ################\n",
    "# #Quality Control\n",
    "# #pbmc[[\"percent.mt\"]] <- PercentageFeatureSet(pbmc, pattern = \"^MT-\")\n",
    "\n",
    "# pbmc\n",
    "\n",
    "# # QC_ViolinPlot.png\n",
    "# plot_pth = paste(opth,\"/QC_ViolinPlot.png\",sep=\"\")\n",
    "# p = VlnPlot(pbmc, features = c(\"nFeature_RNA\", \"nCount_RNA\", \"percent.mt\") , ncol = 3)\n",
    "# png(file = plot_pth)\n",
    "# print(p)\n",
    "# dev.off()\n",
    "\n",
    "# # MT_cutoff.png\n",
    "# plot_pth = paste(opth,\"/MT_cutoff.png\",sep=\"\")\n",
    "# p <- FeatureScatter(pbmc, feature1 = \"nCount_RNA\", feature2 = \"percent.mt\") + geom_hline(yintercept=10)\n",
    "# png(file = plot_pth)\n",
    "# print(p)\n",
    "# dev.off()\n",
    "\n",
    "\n",
    "# #QC_Gene_cutoff.png\n",
    "# plot_pth = paste(opth,\"/QC_Gene_cutoff.png\",sep=\"\")\n",
    "# p <- FeatureScatter(pbmc, feature1 = \"nFeature_RNA\", feature2 = \"nCount_RNA\") + geom_hline(yintercept=20000) + geom_vline(xintercept = 4000)\n",
    "# png(file = plot_pth)\n",
    "# print(p)\n",
    "# dev.off()\n",
    "\n",
    "# ################\n",
    "# #QC filtering\n",
    "# pbmc <- subset(pbmc, subset = nCount_RNA < nCount_RNA_limit & nFeature_RNA < nFeature_RNA_limit & percent.mt < percent_mt_limit)\n",
    "\n",
    "# #Number of featrues\n",
    "# after_features <- dim(x = pbmc)[1]\n",
    "# #Number of genes\n",
    "# after_cells <- dim(x = pbmc)[2]\n",
    "\n",
    "# ################\n",
    "# #Normalization\n",
    "#     pbmc_norm <- SCTransform(pbmc, verbose = FALSE)\n",
    "\n",
    "# ################\n",
    "# #Labeling \n",
    "# anchors <- FindTransferAnchors(\n",
    "#     reference = reference,\n",
    "#     query = pbmc_norm,\n",
    "#     normalization.method = \"SCT\",\n",
    "#     reference.reduction = \"spca\",\n",
    "#     dims = 1:50\n",
    "# )\n",
    "\n",
    "# pbmc_norm <- MapQuery(\n",
    "#     anchorset = anchors,\n",
    "#     query = pbmc_norm,\n",
    "#     reference = reference,\n",
    "#     refdata = list(\n",
    "#         celltype.l1 = \"celltype.l1\",\n",
    "#         celltype.l2 = \"celltype.l2\",\n",
    "#         predicted_ADT = \"ADT\"\n",
    "#     ),\n",
    "#     reference.reduction = \"spca\", \n",
    "#     reduction.model = \"wnn.umap\"\n",
    "# )\n",
    "\n",
    "# pbmc_df <- as.data.frame(pbmc_norm[[]])\n",
    "\n"
   ]
  },
  {
   "cell_type": "markdown",
   "id": "d1d145d1-595d-4179-bae1-ee695d94f783",
   "metadata": {},
   "source": [
    "# For loop with path DataFrame"
   ]
  },
  {
   "cell_type": "code",
   "execution_count": null,
   "id": "c344b5d9-1888-4c8f-802e-55e419046093",
   "metadata": {},
   "outputs": [
    {
     "name": "stdout",
     "output_type": "stream",
     "text": [
      "[1] \"/data2/COVID19/analysis/KNU/azimuth_label_NOQC/COV.CCO.0011\"\n",
      "[1] \"Aleady exist project :  COV.CCO.0011\"\n",
      "[1] \"Remove existing directory\"\n"
     ]
    },
    {
     "name": "stderr",
     "output_type": "stream",
     "text": [
      "Normalizing query using reference SCT model\n",
      "\n",
      "Projecting cell embeddings\n",
      "\n",
      "Finding neighborhoods\n",
      "\n"
     ]
    }
   ],
   "source": [
    "for (row in 1:nrow(file_df)) {\n",
    "    pjt <- file_df[row, \"project\"]\n",
    "    pth <- file_df[row, \"path\"]\n",
    "    opth <- file_df[row, \"out_path\"]\n",
    "    \n",
    "    print(opth)\n",
    "    if(!file.exists(opth)){\n",
    "        dir.create(opth,showWarnings = TRUE, recursive = FALSE,  mode = \"0770\")\n",
    "        \n",
    "    }else{\n",
    "        print(paste(\"Aleady exist project : \",pjt))\n",
    "        print(\"Remove existing directory\")\n",
    "        unlink(opth,recursive=TRUE)\n",
    "        dir.create(opth,showWarnings = TRUE, recursive = FALSE,  mode = \"0770\")\n",
    "    }\n",
    "    ################\n",
    "    #Parameter setting\n",
    "    nCount_RNA_limit = 20000\n",
    "    nFeature_RNA_limit = 4000\n",
    "    percent_mt_limit = 10\n",
    "    min_cells_limit = 2\n",
    "    min_features_limit = 300\n",
    "    \n",
    "    azimuth_labeling(pjt,pth,opth,reference,nCount_RNA_limit,nFeature_RNA_limit,percent_mt_limit, min_cells_limit, min_features_limit)\n",
    "    break\n",
    "    \n",
    "    #Only loop 3 times for testintg\n",
    "    if(row > 3){\n",
    "        print(\"end\")\n",
    "        break\n",
    "    }\n",
    "}"
   ]
  },
  {
   "cell_type": "code",
   "execution_count": null,
   "id": "f4390154-87b3-4acc-9c68-4855d22661c8",
   "metadata": {},
   "outputs": [],
   "source": []
  },
  {
   "cell_type": "markdown",
   "id": "05bb95a6-b619-4b37-982d-06bf42cb92ce",
   "metadata": {},
   "source": [
    "# Save Reference plots"
   ]
  },
  {
   "cell_type": "code",
   "execution_count": null,
   "id": "d194de18-6184-4359-b88d-be52f8376a46",
   "metadata": {},
   "outputs": [],
   "source": []
  },
  {
   "cell_type": "code",
   "execution_count": null,
   "id": "655f4d82-c025-4100-b432-415bc23540c7",
   "metadata": {},
   "outputs": [
    {
     "data": {
      "text/html": [
       "'/data2/COVID19/analysis/KNU/azimuth_label_NOQC/reference_cell_annot_l1.pdf'"
      ],
      "text/latex": [
       "'/data2/COVID19/analysis/KNU/azimuth\\_label\\_NOQC/reference\\_cell\\_annot\\_l1.pdf'"
      ],
      "text/markdown": [
       "'/data2/COVID19/analysis/KNU/azimuth_label_NOQC/reference_cell_annot_l1.pdf'"
      ],
      "text/plain": [
       "[1] \"/data2/COVID19/analysis/KNU/azimuth_label_NOQC/reference_cell_annot_l1.pdf\""
      ]
     },
     "metadata": {},
     "output_type": "display_data"
    },
    {
     "data": {
      "text/html": [
       "'/data2/COVID19/analysis/KNU/azimuth_label_NOQC/reference_cell_annot_l2.pdf'"
      ],
      "text/latex": [
       "'/data2/COVID19/analysis/KNU/azimuth\\_label\\_NOQC/reference\\_cell\\_annot\\_l2.pdf'"
      ],
      "text/markdown": [
       "'/data2/COVID19/analysis/KNU/azimuth_label_NOQC/reference_cell_annot_l2.pdf'"
      ],
      "text/plain": [
       "[1] \"/data2/COVID19/analysis/KNU/azimuth_label_NOQC/reference_cell_annot_l2.pdf\""
      ]
     },
     "metadata": {},
     "output_type": "display_data"
    }
   ],
   "source": [
    "plot1_file_name <- paste(out_dir,\"reference_cell_annot_l1.pdf\", sep=\"\")\n",
    "plot1_file_name\n",
    "plot2_file_name <- paste(out_dir,\"reference_cell_annot_l2.pdf\", sep=\"\")\n",
    "plot2_file_name\n"
   ]
  },
  {
   "cell_type": "code",
   "execution_count": null,
   "id": "31392c10-f6ef-493d-9f4c-67aa49482677",
   "metadata": {},
   "outputs": [
    {
     "name": "stderr",
     "output_type": "stream",
     "text": [
      "Rasterizing points since number of points exceeds 100,000.\n",
      "To disable this behavior set `raster=FALSE`\n",
      "\n"
     ]
    },
    {
     "data": {
      "text/html": [
       "<strong>png:</strong> 2"
      ],
      "text/latex": [
       "\\textbf{png:} 2"
      ],
      "text/markdown": [
       "**png:** 2"
      ],
      "text/plain": [
       "png \n",
       "  2 "
      ]
     },
     "metadata": {},
     "output_type": "display_data"
    },
    {
     "data": {
      "image/png": "[encoded data removed]",
      "text/plain": [
       "plot without title"
      ]
     },
     "metadata": {
      "image/png": {
       "height": 420,
       "width": 420
      }
     },
     "output_type": "display_data"
    }
   ],
   "source": [
    "p1 = DimPlot(object = reference, reduction = \"wnn.umap\", group.by = \"celltype.l1\", label = TRUE, label.size = 3, repel = TRUE) + NoLegend()\n",
    "# Open a pdf file\n",
    "pdf(plot1_file_name) \n",
    "# 2. Create a plot\n",
    "p1\n",
    "# Close the pdf file\n",
    "dev.off() \n",
    "p1"
   ]
  },
  {
   "cell_type": "code",
   "execution_count": null,
   "id": "cb14735d-a870-4482-8ffb-bb21e38d268d",
   "metadata": {},
   "outputs": [
    {
     "name": "stderr",
     "output_type": "stream",
     "text": [
      "Rasterizing points since number of points exceeds 100,000.\n",
      "To disable this behavior set `raster=FALSE`\n",
      "\n"
     ]
    },
    {
     "data": {
      "text/html": [
       "<strong>png:</strong> 2"
      ],
      "text/latex": [
       "\\textbf{png:} 2"
      ],
      "text/markdown": [
       "**png:** 2"
      ],
      "text/plain": [
       "png \n",
       "  2 "
      ]
     },
     "metadata": {},
     "output_type": "display_data"
    },
    {
     "data": {
      "image/png": "[encoded data removed]",
      "text/plain": [
       "plot without title"
      ]
     },
     "metadata": {
      "image/png": {
       "height": 420,
       "width": 420
      }
     },
     "output_type": "display_data"
    }
   ],
   "source": [
    "p2 = DimPlot(object = reference, reduction = \"wnn.umap\", group.by = \"celltype.l2\", label = TRUE, label.size = 3, repel = TRUE) + NoLegend()\n",
    "# Open a pdf file\n",
    "pdf(plot2_file_name) \n",
    "# 2. Create a plot\n",
    "p2\n",
    "# Close the pdf file\n",
    "dev.off()\n",
    "p2"
   ]
  },
  {
   "cell_type": "code",
   "execution_count": null,
   "id": "49856906-feb5-4174-aa33-11df3cd427df",
   "metadata": {},
   "outputs": [
    {
     "name": "stderr",
     "output_type": "stream",
     "text": [
      "Rasterizing points since number of points exceeds 100,000.\n",
      "To disable this behavior set `raster=FALSE`\n",
      "\n"
     ]
    },
    {
     "ename": "ERROR",
     "evalue": "Error in is.factor(x): object 'plot3_file_name' not found\n",
     "output_type": "error",
     "traceback": [
      "Error in is.factor(x): object 'plot3_file_name' not found\nTraceback:\n",
      "1. pdf(plot3_file_name)",
      "2. checkIntFormat(file)",
      "3. gsub(\"%%\", \"\", s, fixed = TRUE)",
      "4. is.factor(x)"
     ]
    }
   ],
   "source": []
  },
  {
   "cell_type": "code",
   "execution_count": null,
   "id": "0afe63dd-58ef-4e50-898a-e689a086ed5f",
   "metadata": {},
   "outputs": [],
   "source": []
  }
 ],
 "metadata": {
  "kernelspec": {
   "display_name": "R scGSEA",
   "language": "R",
   "name": "scgsea"
  },
  "language_info": {
   "codemirror_mode": "r",
   "file_extension": ".r",
   "mimetype": "text/x-r-source",
   "name": "R",
   "pygments_lexer": "r",
   "version": "4.1.2"
  }
 },
 "nbformat": 4,
 "nbformat_minor": 5
}
